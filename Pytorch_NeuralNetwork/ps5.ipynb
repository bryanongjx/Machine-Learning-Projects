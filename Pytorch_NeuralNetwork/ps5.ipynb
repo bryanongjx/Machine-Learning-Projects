{
  "cells": [
    {
      "attachments": {},
      "cell_type": "markdown",
      "id": "3da434a8",
      "metadata": {
        "id": "3da434a8"
      },
      "source": [
        "# PyTorch x Neural Networks\n",
        "\n",
        "\n",
        "In the real world, while fundamentals are welcomed and appreciated, implementing algorithms from scratch is time consuming, especially when it comes to Deep Learning (DL) models like neural networks with many layers. Backpropagating manually or by hand is often tedious and erroneous. Which is why, knowing **at least one** Machine Learning library is very very necessary, either to get jobs or build projects in this field. As such, in this project, I wish to explore**PyTorch**."
      ]
    },
    {
      "cell_type": "code",
      "execution_count": null,
      "id": "afedfcd3",
      "metadata": {
        "id": "afedfcd3"
      },
      "outputs": [],
      "source": [
        "# RUN THIS CELL FIRST\n",
        "\n",
        "import math\n",
        "import matplotlib.pyplot as plt\n",
        "import torch\n",
        "import torch.nn as nn"
      ]
    },
    {
      "attachments": {},
      "cell_type": "markdown",
      "id": "a5482ebb",
      "metadata": {
        "id": "a5482ebb"
      },
      "source": [
        "# 1 Tensors in PyTorch\n",
        "\n",
        "### 1.1 Concept - What are Tensors?\n",
        "\n",
        "In Linear Algebra, vectors are 1-dimensional (1D) serial arrays (like `[1, 2, 3, 4, 23, 18]`) containing a column (or row) of information. Matrices are \"rectangles\" (i.e., 2D) that also capture elements.\n",
        "\n",
        "**Tensors** generalise the concept of matrices: they are $n$-dimensional arrays that contain or represent information. In *PyTorch*, everything is defined as a `tensor`. It's analogous to `np.array(...)` from *NumPy*. A `tensor` object in *PyTorch* looks like this:\n",
        "\n",
        "<img src=\"imgs/img_tensors.png\" width=\"600\">\n",
        "\n",
        "Notice that tensors have a `.grad` attribute. This is used for automatic gradient computation.  \n",
        "To create tensors, we use the `torch.tensor(...)` constructor:  \n",
        "\n",
        "A 0-dimensional tensor: `torch.tensor(5.0)`  \n",
        "A 1-dimensional tensor: `torch.tensor([1.0, 2.0, 3.0])`  \n",
        "A 2-dimensional tensor: `torch.tensor([[.4, .3], [.1, .2]])`  \n",
        "\n",
        "If automatic gradient computation is required, then the equivalent constructors will be:  \n",
        "`torch.tensor(5.0, requires_grad=True)`  \n",
        "`torch.tensor([1.0, 2.0, 3.0], requires_grad=True)`  \n",
        "`torch.tensor([[.4, .3], [.1, .2]], requires_grad=True)`  \n",
        "\n",
        "**Tensors**, like *NumPy* arrays, can have arbitrary number of dimensions, and we can easily create $n$-dimensional tensors."
      ]
    },
    {
      "cell_type": "markdown",
      "id": "3a9b1300",
      "metadata": {
        "id": "3a9b1300"
      },
      "source": [
        "### 1.2 Demo - Working with Tensors\n",
        "\n",
        "Here, we use `torch.linspace` to create a `torch.tensor`. In PyTorch, and Machine Learning in general, tensors form the basis of all operations.\n",
        "\n",
        "We then make use of the built-in *PyTorch* function `torch.sin` to create the corresponding y-values of a sine function, and plot the points using *Matplotlib*."
      ]
    },
    {
      "cell_type": "code",
      "execution_count": null,
      "id": "be36fbc0",
      "metadata": {
        "colab": {
          "base_uri": "https://localhost:8080/",
          "height": 281
        },
        "id": "be36fbc0",
        "outputId": "97be7251-707b-427e-f057-18d3dc596108"
      },
      "outputs": [
        {
          "data": {
            "image/png": "[encoded data removed]",
            "text/plain": [
              "<Figure size 432x288 with 1 Axes>"
            ]
          },
          "metadata": {},
          "output_type": "display_data"
        }
      ],
      "source": [
        "import math\n",
        "\n",
        "import matplotlib.pyplot as plt\n",
        "import torch\n",
        "import torch.nn as nn\n",
        "\n",
        "x = torch.linspace(-math.pi, math.pi, 1000)\n",
        "y_true = torch.sin(x)\n",
        "\n",
        "plt.plot(x, y_true, linestyle='solid', label='sin(x)')\n",
        "plt.axis('equal')\n",
        "plt.title('Original function to fit')\n",
        "plt.legend()\n",
        "plt.show()"
      ]
    },
    {
      "cell_type": "code",
      "execution_count": null,
      "id": "23acad3b",
      "metadata": {
        "colab": {
          "base_uri": "https://localhost:8080/"
        },
        "id": "23acad3b",
        "outputId": "687033be-08fd-492e-f21a-44a1adea291a"
      },
      "outputs": [
        {
          "data": {
            "text/plain": [
              "tensor([-3.1416, -3.1353, -3.1290, -3.1227, -3.1164, -3.1101, -3.1039, -3.0976,\n",
              "        -3.0913, -3.0850])"
            ]
          },
          "execution_count": 4,
          "metadata": {},
          "output_type": "execute_result"
        }
      ],
      "source": [
        "# Run this cell to explore what the FIRST 10 VALUES of x has been assigned to.\n",
        "x[:10]"
      ]
    },
    {
      "attachments": {},
      "cell_type": "markdown",
      "id": "ba5928f9",
      "metadata": {
        "id": "ba5928f9"
      },
      "source": [
        "### Using Tensors for linear regression\n",
        "\n",
        "For this example, we fit a **degree 3 polynomial** to the sine function, using a learning rate of 1e-6 and 5000 iterations."
      ]
    },
    {
      "cell_type": "code",
      "execution_count": null,
      "id": "828fdba4",
      "metadata": {
        "colab": {
          "base_uri": "https://localhost:8080/",
          "height": 406
        },
        "id": "828fdba4",
        "outputId": "3de8b438-8226-4d4d-dacc-a375806aad6a"
      },
      "outputs": [
        {
          "name": "stdout",
          "output_type": "stream",
          "text": [
            "iter\tloss\t\n",
            "----\t----\n",
            "1000\t0.4506033957004547\n",
            "2000\t0.4224050045013428\n",
            "3000\t0.40602096915245056\n",
            "4000\t0.396359920501709\n",
            "5000\t0.39052513241767883\n"
          ]
        },
        {
          "data": {
            "image/png": "[encoded data removed]",
            "text/plain": [
              "<Figure size 432x288 with 1 Axes>"
            ]
          },
          "metadata": {},
          "output_type": "display_data"
        }
      ],
      "source": [
        "# Set learning rate\n",
        "learning_rate = 1e-6\n",
        "\n",
        "# Initialize weights to 0\n",
        "a = torch.tensor(0.)\n",
        "b = torch.tensor(0.)\n",
        "c = torch.tensor(0.)\n",
        "d = torch.tensor(0.)\n",
        "\n",
        "print('iter', 'loss', '\\n----', '----', sep='\\t')\n",
        "for t in range(1, 5001): # 5000 iterations\n",
        "    # Forward pass: compute predicted y\n",
        "    y_pred = a + b * x + c * x**2 + d * x**3\n",
        "\n",
        "    # Compute MSE loss\n",
        "    loss = torch.mean(torch.square(y_pred - y_true))\n",
        "    if t % 1000 == 0:\n",
        "        print(t, loss.item(), sep='\\t')\n",
        "\n",
        "    # Backprop\n",
        "    grad_y_pred = 2.0 * (y_pred - y_true) / y_pred.shape[0]\n",
        "    # Compute gradients of a, b, c, d with respect to loss\n",
        "    grad_a = grad_y_pred.sum()\n",
        "    grad_b = (grad_y_pred * x).sum()\n",
        "    grad_c = (grad_y_pred * x ** 2).sum()\n",
        "    grad_d = (grad_y_pred * x ** 3).sum()\n",
        "\n",
        "    # Update weights using gradient descent\n",
        "    a -= learning_rate * grad_a\n",
        "    b -= learning_rate * grad_b\n",
        "    c -= learning_rate * grad_c\n",
        "    d -= learning_rate * grad_d\n",
        "\n",
        "# print fitted polynomial\n",
        "equation = f'{a:.5f} + {b:.5f} x + {c:.5f} x^2 + {d:.5f} x^3'\n",
        "\n",
        "y_pred = a + b * x + c * x**2 + d * x**3\n",
        "plt.plot(x, y_true, linestyle='solid', label='sin(x)')\n",
        "plt.plot(x, y_pred, linestyle='dashed', label=f'{equation}')\n",
        "plt.axis('equal')\n",
        "plt.title('3rd degree poly fitted to sine (MSE loss)')\n",
        "plt.legend()\n",
        "plt.show()"
      ]
    },
    {
      "attachments": {},
      "cell_type": "markdown",
      "id": "76952906",
      "metadata": {
        "id": "76952906"
      },
      "source": [
        "### 1.5 Using autograd to automatically compute gradients\n",
        "\n",
        "In the previous example, we explicitly computed the gradient for Mean Squared Error (MSE)  \n",
        "`grad_y_pred = 2.0 * (y_pred - y_true) / y_pred.shape[0]`\n",
        "\n",
        "In the next example, we will use PyTorch's autograd functionality to help us compute the gradient for **Mean Absolute Error (MAE)**.  \n",
        "In order to compute the gradients, we will use the `.backward()` method of *PyTorch* tensors.\n",
        "\n",
        "Once again, we fit a **degree 3 polynomial** to the sine function, using a learning rate of `1e-6` and `5000` iterations.  \n",
        "This time, we will use MAE instead of MSE."
      ]
    },
    {
      "cell_type": "code",
      "execution_count": null,
      "id": "d2861c55",
      "metadata": {
        "colab": {
          "base_uri": "https://localhost:8080/",
          "height": 406
        },
        "id": "d2861c55",
        "outputId": "e69a3df1-e612-494e-a00d-6780b0e07711"
      },
      "outputs": [
        {
          "name": "stdout",
          "output_type": "stream",
          "text": [
            "iter\tloss\t\n",
            "----\t----\n",
            "1000\t0.5974264740943909\n",
            "2000\t0.5801821351051331\n",
            "3000\t0.5707745552062988\n",
            "4000\t0.565079927444458\n",
            "5000\t0.5613779425621033\n"
          ]
        },
        {
          "data": {
            "image/png": "[encoded data removed]",
            "text/plain": [
              "<Figure size 432x288 with 1 Axes>"
            ]
          },
          "metadata": {},
          "output_type": "display_data"
        }
      ],
      "source": [
        "# This is a demonstration: You just need to run this cell without editing.\n",
        "\n",
        "# Set learning rate\n",
        "learning_rate = 1e-6\n",
        "\n",
        "# Initialize weights to 0\n",
        "a = torch.tensor(0., requires_grad=True)\n",
        "b = torch.tensor(0., requires_grad=True)\n",
        "c = torch.tensor(0., requires_grad=True)\n",
        "d = torch.tensor(0., requires_grad=True)\n",
        "\n",
        "print('iter', 'loss', '\\n----', '----', sep='\\t')\n",
        "for t in range(1, 5001):\n",
        "    # Forward pass: compute predicted y\n",
        "    y_pred = a + b * x + c * x ** 2 + d * x ** 3\n",
        "\n",
        "    # Compute MAE loss\n",
        "    loss = torch.mean(torch.abs(y_pred - y_true))\n",
        "    if t % 1000 == 0:\n",
        "        print(t, loss.item(), sep='\\t')\n",
        "\n",
        "    # Automatically compute gradients\n",
        "    loss.backward()\n",
        "\n",
        "    # Update weights using gradient descent\n",
        "    with torch.no_grad():\n",
        "        a -= learning_rate * a.grad\n",
        "        b -= learning_rate * b.grad\n",
        "        c -= learning_rate * c.grad\n",
        "        d -= learning_rate * d.grad\n",
        "        a.grad.zero_() # reset gradients !important\n",
        "        b.grad.zero_() # reset gradients !important\n",
        "        c.grad.zero_() # reset gradients !important\n",
        "        d.grad.zero_() # reset gradients !important\n",
        "        # What happens if you don't reset the gradients?\n",
        "\n",
        "# print fitted polynomial\n",
        "equation = f'{a:.5f} + {b:.5f} x + {c:.5f} x^2 + {d:.5f} x^3'\n",
        "\n",
        "y_pred = a + b * x + c * x ** 2 + d * x ** 3\n",
        "plt.plot(x, y_true, linestyle='solid', label='sin(x)')\n",
        "plt.plot(x, y_pred.detach().numpy(), linestyle='dashed', label=f'{equation}')\n",
        "plt.axis('equal')\n",
        "plt.title('3rd degree poly fitted to sine (MAE loss)')\n",
        "plt.legend()\n",
        "plt.show()"
      ]
    },
    {
      "attachments": {},
      "cell_type": "markdown",
      "id": "ca266605",
      "metadata": {
        "id": "ca266605"
      },
      "source": [
        "### 1.6 Polyfit model\n",
        "\n",
        "We have demonstrated how to fit a degree-3 polynomial to a set of `x` and `y` points (following the sine curve), using two different types of loss functions (MSE and MAE).  \n",
        "\n",
        "Here, we write a function `polyfit` that takes in some arbitrary set of points, \n",
        "1. `x`, corresponding x-values,  \n",
        "2. `y`, corresponding true y-values,  \n",
        "3. `loss_fn` to compute the loss, given the true `y` and predicted `y`,  \n",
        "4. `n` representing the $n$-degree polynomial, and \n",
        "5. `lr` learning rate, and  \n",
        "6. `n_iter` for the number of times to iterate.  \n",
        "\n",
        "Return the 1D tensor containing the coefficients of the $n$-degree polynomial , after fitting the model.  \n",
        "The coefficients should be arranged in ascending powers of $x$.\n",
        "\n",
        "For example,\n",
        "```\n",
        ">>> y = torch.sine(x)\n",
        ">>> mse = lambda y_true, y_pred: torch.mean(torch.square(y_pred - y_true))\n",
        ">>> mae = lambda y_true, y_pred: torch.mean(torch.abs(y_pred - y_true))\n",
        "\n",
        ">>> polyfit(x, y, mse, 3, 1e-3, 5000)\n",
        "tensor([-4.2270e-09,  8.5167e-01,  1.2131e-08, -9.2587e-02], requires_grad=True))\n",
        "\n",
        ">>> polyfit(x, y, mae, 3, 1e-3, 5000)\n",
        "tensor([-9.6776e-07,  8.7905e-01, -2.4784e-06, -9.8377e-02], requires_grad=True))\n",
        "```\n",
        "\n",
        "*Note: For this regression problem, weights are initializedto 0.0.*"
      ]
    },
    {
      "attachments": {},
      "cell_type": "markdown",
      "id": "825a4e0b",
      "metadata": {
        "id": "825a4e0b"
      },
      "source": [
        "### 1.7 Observations on different model configurations\n",
        "\n",
        "Obeservations after running `polyfit` on these model configurations.\n",
        "\n",
        "1. `polyfit(x, y, mse, 3, 1e-6, 5000)`\n",
        "2. `polyfit(x, y, mse, 3, 1e6, 5000)`\n",
        "3. `polyfit(x, y, mse, 1, 1e-3, 5000)`\n",
        "4. `polyfit(x, y, mse, 6, 1e-3, 5000)`"
      ]
    },
    {
      "cell_type": "code",
      "execution_count": null,
      "id": "c1f9a796",
      "metadata": {
        "colab": {
          "base_uri": "https://localhost:8080/",
          "height": 638
        },
        "id": "c1f9a796",
        "outputId": "7f62493b-28e5-4aa0-b53a-730ab0b4d5de"
      },
      "outputs": [
        {
          "name": "stdout",
          "output_type": "stream",
          "text": [
            "0.49949994683265686\n",
            "0.45056676864624023\n",
            "0.42238375544548035\n",
            "0.4060085117816925\n",
            "0.39635246992111206\n",
            "0.49949994683265686\n",
            "nan\n",
            "nan\n",
            "nan\n",
            "nan\n",
            "0.49949994683265686\n",
            "0.19675274193286896\n",
            "0.19675219058990479\n",
            "0.19675219058990479\n",
            "0.19675219058990479\n",
            "0.49949994683265686\n",
            "nan\n",
            "nan\n",
            "nan\n",
            "nan\n"
          ]
        },
        {
          "data": {
            "image/png": "[encoded data removed]",
            "text/plain": [
              "<Figure size 432x288 with 1 Axes>"
            ]
          },
          "metadata": {},
          "output_type": "display_data"
        }
      ],
      "source": [
        "def polyfit(x, y, loss_fn, n, lr, n_iter):\n",
        "    \"\"\"\n",
        "    PARAMS:\n",
        "        x : original 1-D x-values\n",
        "        y : corresponding 1-D y-values\n",
        "        loss_fn : function to measure loss\n",
        "        n : nth-degree polynomial\n",
        "        lr : learning rate\n",
        "        n_iter : the number of iterations of gradient descent\n",
        "        \n",
        "    RETURNS:\n",
        "        The near-optimal coefficients of the\n",
        "        nth-degree polynomial after `n_iter` epochs\n",
        "    \"\"\"\n",
        "    powers = torch.tensor([i for i in range(n+1)])\n",
        "    x = torch.unsqueeze(x, -1)\n",
        "    x = torch.pow(x, powers)\n",
        "    weights = torch.zeros(n + 1, requires_grad = True)\n",
        "\n",
        "    for t in range(n_iter):\n",
        "      y_pred = torch.matmul(weights, x.T)\n",
        "      loss = loss_fn(y, y_pred)\n",
        "      loss.backward()\n",
        "\n",
        "      if t % 1000 == 0:\n",
        "        print(loss.item())\n",
        "\n",
        "      with torch.no_grad():\n",
        "        weights -= lr * weights.grad\n",
        "        weights.grad.zero_()\n",
        "\n",
        "    return weights\n",
        "\n",
        "\n",
        "\n",
        "x = torch.linspace(-math.pi, math.pi, 1000)\n",
        "\n",
        "# Original true values\n",
        "y = torch.sin(x)\n",
        "plt.plot(x, y, linestyle='solid', label='sin(x)')\n",
        "\n",
        "mse = lambda y_true, y_pred: torch.mean(torch.square(y_pred - y_true))\n",
        "\n",
        "\n",
        "# MSE 1\n",
        "a, b, c, d = polyfit(x, y, mse, 3, 1e-6, 5000)\n",
        "y_pred_mse1 = a + b * x + c * x ** 2 + d * x ** 3\n",
        "plt.plot(x, y_pred_mse1.detach().numpy(), linestyle='dashed', label=f'mse 1')\n",
        "\n",
        "# MSE 2\n",
        "\n",
        "e, f, g, h = polyfit(x, y, mse, 3, 1e6, 5000)\n",
        "y_pred_mse2 = e + f * x + g * x ** 2 + h * x ** 3\n",
        "plt.plot(x, y_pred_mse2.detach().numpy(), linestyle='solid', label=f'mse 2')\n",
        "\n",
        "# MSE 3\n",
        "\n",
        "i, j = polyfit(x, y, mse, 1, 1e-3, 5000)\n",
        "y_pred_mse3 = i + j * x\n",
        "plt.plot(x, y_pred_mse3.detach().numpy(), linestyle='dashed', label=f'mse 3')\n",
        "\n",
        "# MSE 3\n",
        "k, l, m, n, o, p, q = polyfit(x, y, mse, 6, 1e-3, 5000)\n",
        "y_pred_mse4 = k + l * x + m * x ** 2 + n * x ** 3 + o * x ** 4 + p * x ** 5 + q * x ** 6\n",
        "plt.plot(x, y_pred_mse4.detach().numpy(), linestyle='dashed', label=f'mse 4')\n",
        "\n",
        "\n",
        "# MAE\n",
        "#mae = lambda y_true, y_pred: torch.mean(torch.abs(y_pred - y_true))\n",
        "#a, b, c, d = polyfit(x, y, mae, 3, 1e-3, 5000)\n",
        "#y_pred_mae = a + b * x + c * x ** 2 + d * x ** 3\n",
        "#plt.plot(x, y_pred_mae.detach().numpy(), linestyle='dashed', label=f'mae')\n",
        "\n",
        "\n",
        "plt.axis('equal')\n",
        "plt.title('Comparison of different fits')\n",
        "plt.legend()\n",
        "plt.show()"
      ]
    },
    {
      "attachments": {},
      "cell_type": "markdown",
      "id": "4e2fb6c5",
      "metadata": {
        "id": "4e2fb6c5"
      },
      "source": [
        "---\n",
        "# 2. Computing gradients for arbitrary graphs\n",
        "\n",
        "<img src=\"imgs/img_toy_nn.jpg\" width=\"400\">\n",
        "\n",
        "### 2.1 Forward pass\n",
        "\n",
        "Here, we implement the function `forward_pass` that takes in 4 arguments:  \n",
        "1. `x`, the input values (not including bias)\n",
        "2. `w0`, (2x2) weights of the hidden layer\n",
        "3. `w1`, (3x1) weights of the output layer\n",
        "4. `activation_fn`, the activation function of the hidden layer."
      ]
    },
    {
      "cell_type": "code",
      "execution_count": null,
      "id": "4d97ca45",
      "metadata": {
        "colab": {
          "base_uri": "https://localhost:8080/"
        },
        "id": "4d97ca45",
        "outputId": "8f17b4c1-8af4-4b55-ccd1-9fcfa86337f8"
      },
      "outputs": [
        {
          "data": {
            "text/plain": [
              "tensor([[3.],\n",
              "        [2.],\n",
              "        [1.],\n",
              "        [0.],\n",
              "        [1.]], grad_fn=<MmBackward0>)"
            ]
          },
          "execution_count": 45,
          "metadata": {},
          "output_type": "execute_result"
        }
      ],
      "source": [
        "\n",
        "x = torch.linspace(-10, 10, 1000).reshape(-1, 1)\n",
        "y = torch.abs(x-1)\n",
        "\n",
        "def forward_pass(x, w0, w1, activation_fn):\n",
        "    m = x.shape[0]\n",
        "    bias = torch.ones(m, 1)\n",
        "    x = torch.cat((bias, x), axis = 1)\n",
        "    y_pred = x @ w0\n",
        "    y_pred = activation_fn(y_pred)\n",
        "    y_pred = torch.cat((bias, y_pred), axis = 1)\n",
        "    y_pred = y_pred @ w1\n",
        "    return y_pred\n",
        "\n",
        "# Exact weights\n",
        "w0 = torch.tensor([[-1., 1.], [1., -1.]], requires_grad=True)\n",
        "w1 = torch.tensor([[0.], [1.], [1.]], requires_grad=True)\n",
        "\n",
        "# Performing a forward pass on exact solution for weights will give us the correct y values\n",
        "x_sample = torch.linspace(-2, 2, 5).reshape(-1, 1)\n",
        "forward_pass(x_sample, w0, w1, torch.relu) # tensor([[3.], [2.], [1.], [0.], [1.]])"
      ]
    },
    {
      "attachments": {},
      "cell_type": "markdown",
      "id": "9c8033e1",
      "metadata": {
        "id": "9c8033e1"
      },
      "source": [
        "### 2.2 Backward propagation\n",
        "\n",
        "Here , we will start with random weights for `w0` and `w1`, and iteratively perform forward passes and backward propagation multiple times to converge on a solution."
      ]
    },
    {
      "cell_type": "code",
      "execution_count": null,
      "id": "d79c3395",
      "metadata": {
        "colab": {
          "base_uri": "https://localhost:8080/",
          "height": 620
        },
        "id": "d79c3395",
        "outputId": "8446badd-b0ff-45e4-d6fc-8d08a6b43c1c"
      },
      "outputs": [
        {
          "name": "stdout",
          "output_type": "stream",
          "text": [
            "iter\tloss\t\n",
            "----\t----\n",
            "1000\t4.4103312492370605\n",
            "2000\t2.852491855621338\n",
            "3000\t1.732651948928833\n",
            "4000\t1.135270118713379\n",
            "5000\t0.7932249903678894\n",
            "6000\t0.5798095464706421\n",
            "7000\t0.43656226992607117\n",
            "8000\t0.3345654308795929\n",
            "9000\t0.258656769990921\n",
            "10000\t0.20048648118972778\n",
            "--- w0 ---\n",
            "tensor([[ 2.6527,  0.5764],\n",
            "        [-0.3124, -1.5384]], requires_grad=True)\n",
            "--- w1 ---\n",
            "tensor([[ 7.0597],\n",
            "        [-2.6979],\n",
            "        [ 1.2358]], requires_grad=True)\n"
          ]
        },
        {
          "data": {
            "image/png": "[encoded data removed]",
            "text/plain": [
              "<Figure size 432x288 with 1 Axes>"
            ]
          },
          "metadata": {},
          "output_type": "display_data"
        }
      ],
      "source": [
        "torch.manual_seed(2) # Set seed to some fixed value\n",
        "\n",
        "w0 = torch.randn(2, 2, requires_grad=True)\n",
        "w1 = torch.randn(3, 1, requires_grad=True)\n",
        "\n",
        "learning_rate = 1e-3\n",
        "print('iter', 'loss', '\\n----', '----', sep='\\t')\n",
        "for t in range(1, 10001):\n",
        "    # Forward pass: compute predicted y\n",
        "    y_pred = forward_pass(x, w0, w1, torch.relu)\n",
        "\n",
        "    loss = torch.mean(torch.square(y - y_pred))\n",
        "    loss.backward()\n",
        "\n",
        "    if t % 1000 == 0:\n",
        "        print(t, loss.item(), sep='\\t')\n",
        "\n",
        "    with torch.no_grad():\n",
        "        # Update weights and then reset the gradients to zero\n",
        "        w0 -= learning_rate * w0.grad\n",
        "        w1 -= learning_rate * w1.grad\n",
        "        w0.grad.zero_()\n",
        "        w1.grad.zero_()\n",
        "\n",
        "print(\"--- w0 ---\", w0, sep='\\n')\n",
        "print(\"--- w1 ---\", w1, sep='\\n')\n",
        "y_pred = forward_pass(x, w0, w1, torch.relu)\n",
        "plt.plot(x, y, linestyle='solid', label='|x-1|')\n",
        "plt.plot(x, y_pred.detach().numpy(), linestyle='dashed', label='perceptron')\n",
        "plt.axis('equal')\n",
        "plt.title('Fit NN on abs function')\n",
        "plt.legend()\n",
        "plt.show()\n",
        "\n",
        "w0   = [[0.0, 0.0], [0.0,  0.0]] \n",
        "w1   = [[0.0], [0.0], [0.0]]     \n",
        "loss = 0.0                      "
      ]
    },
    {
      "attachments": {},
      "cell_type": "markdown",
      "id": "8c0f772a",
      "metadata": {
        "id": "8c0f772a"
      },
      "source": [
        "# 3 Neural Networks (using PyTorch layers)\n",
        "\n",
        "\n",
        "PyTorch abstracts that away using the `nn.Linear(in_dimensions, out_dimensions)` layer that does this under the hood.  \n",
        "`Linear` represents a fully connected layer with bias automatically included.  \n",
        "If you do not wish to include a bias column, you can simply call `nn.Linear(in_dimensions, out_dimensions, bias=False)` instead.\n",
        "\n",
        "PyTorch has many other layers implemented for various model architectures.  \n",
        "You can read more in the glossary as well as in the docs: https://pytorch.org/docs/stable/nn.html  \n",
        "For now, we will only be using fully connected `Linear` layers.\n",
        "\n",
        "In this section, we inherit from PyTorch's `nn.Module` class (remember Object-oriented Programming?) to build the model from the previous task `y = |x-1|` from the lecture.  \n",
        "<img src=\"imgs/img_toy_nn.jpg\" width=\"400\">  \n",
        "\n",
        "The `nn.Module` class is an interface that houses two main methods: `__init__`, where we instantiate our layers and activation functions, and `forward`, that performs the forward pass.\n",
        "\n",
        "### 3.1 Forward pass\n",
        "\n"
      ]
    },
    {
      "cell_type": "code",
      "execution_count": null,
      "id": "81145ccc",
      "metadata": {
        "id": "81145ccc"
      },
      "outputs": [],
      "source": [
        "class MyFirstNeuralNet(nn.Module):\n",
        "    def __init__(self): # set the arguments you'd need\n",
        "        super().__init__()\n",
        "        self.l1 = nn.Linear(1, 2) # bias included by default\n",
        "        self.l2 = nn.Linear(2, 1) # bias included by default\n",
        "        self.relu = nn.ReLU()\n",
        "\n",
        "    # Task 3.1: Forward pass\n",
        "    def forward(self, x):\n",
        "        x = self.l1(x)\n",
        "        x = self.l2(x)\n",
        "        x = self.relu(x)\n",
        "        return x"
      ]
    },
    {
      "attachments": {},
      "cell_type": "markdown",
      "id": "b897a701",
      "metadata": {
        "id": "b897a701"
      },
      "source": [
        "### 3.2 Backward propagation"
      ]
    },
    {
      "cell_type": "code",
      "execution_count": null,
      "id": "587d9e4d",
      "metadata": {
        "colab": {
          "base_uri": "https://localhost:8080/",
          "height": 495
        },
        "id": "587d9e4d",
        "outputId": "2fbc6692-69c4-4be6-8611-b0ddc3ff2a04"
      },
      "outputs": [
        {
          "name": "stdout",
          "output_type": "stream",
          "text": [
            "Epoch\tLoss\t\n",
            "-----\t----\n",
            " 1000\t12.283092498779297\n",
            " 2000\t12.214119911193848\n",
            " 3000\t12.188478469848633\n",
            " 4000\t12.180843353271484\n",
            " 5000\t12.178929328918457\n",
            " 6000\t12.178497314453125\n",
            " 7000\t12.178403854370117\n",
            " 8000\t12.178385734558105\n",
            " 9000\t12.17838191986084\n",
            "10000\t12.178380966186523\n"
          ]
        },
        {
          "data": {
            "image/png": "[encoded data removed]",
            "text/plain": [
              "<Figure size 432x288 with 1 Axes>"
            ]
          },
          "metadata": {},
          "output_type": "display_data"
        }
      ],
      "source": [
        "epochs = 10000\n",
        "\n",
        "model = MyFirstNeuralNet()\n",
        "# the optimizer controls the learning rate\n",
        "optimiser = torch.optim.SGD(model.parameters(), lr=1e-3, momentum=0)\n",
        "loss_fn = nn.MSELoss()\n",
        "\n",
        "x = torch.linspace(-10, 10, 1000).reshape(-1, 1)\n",
        "y = torch.abs(x-1)\n",
        "\n",
        "print('Epoch', 'Loss', '\\n-----', '----', sep='\\t')\n",
        "for i in range(1, epochs+1):\n",
        "    # reset gradients to 0\n",
        "    optimiser.zero_grad()\n",
        "    # get predictions\n",
        "    y_pred = model(x)\n",
        "    # compute loss\n",
        "    loss = loss_fn(y_pred, y)\n",
        "    # backpropagate\n",
        "    loss.backward()\n",
        "    # update the model weights\n",
        "    optimiser.step()\n",
        "\n",
        "    if i % 1000 == 0:\n",
        "        print (f\"{i:5d}\", loss.item(), sep='\\t')\n",
        "\n",
        "y_pred = model(x)\n",
        "plt.plot(x, y, linestyle='solid', label='|x-1|')\n",
        "plt.plot(x, y_pred.detach().numpy(), linestyle='dashed', label='perceptron')\n",
        "plt.axis('equal')\n",
        "plt.title('Fit NN on y=|x-1| function')\n",
        "plt.legend()\n",
        "plt.show()"
      ]
    },
    {
      "attachments": {},
      "cell_type": "markdown",
      "id": "6f845c8d",
      "metadata": {
        "id": "6f845c8d"
      },
      "source": [
        "### 3.3 Save and load models\n",
        "\n",
        "The model weights are stored within the model itself.  \n",
        "We may save/load the model weights:\n",
        "```\n",
        "torch.save(model.state_dict(), \"path/to/model_state_dict\")\n",
        "\n",
        "model = MyFirstNeuralNet()\n",
        "model.load_state_dict(torch.load(\"path/to/model_state_dict\"))\n",
        "```\n",
        "\n",
        "Alternatively, we can save/load the entire model using\n",
        "```\n",
        "torch.save(model, \"path/to/model\")\n",
        "\n",
        "model = torch.load(\"path/to/model\")\n",
        "```"
      ]
    },
    {
      "attachments": {},
      "cell_type": "markdown",
      "id": "ac548df6",
      "metadata": {
        "id": "ac548df6"
      },
      "source": [
        "### 3.4 Task 8 - Model weights\n",
        "\n",
        "Here, we will print out the trained model's `.state_dict()`"
      ]
    },
    {
      "cell_type": "code",
      "execution_count": null,
      "id": "481bb0cc",
      "metadata": {
        "colab": {
          "base_uri": "https://localhost:8080/"
        },
        "id": "481bb0cc",
        "outputId": "d65f878b-cc6a-4d71-84b8-f0db93d144d3"
      },
      "outputs": [
        {
          "name": "stdout",
          "output_type": "stream",
          "text": [
            "--- Submit the OrderedDict below ---\n",
            "OrderedDict([('l1.weight', tensor([[1.0344],\n",
            "        [0.1120]])), ('l1.bias', tensor([-0.4025, -0.4025])), ('l2.weight', tensor([[-0.9055, -0.5672]])), ('l2.bias', tensor([0.4061]))])\n"
          ]
        }
      ],
      "source": [
        "print(model.state_dict())"
      ]
    },
    {
      "attachments": {},
      "cell_type": "markdown",
      "id": "9151f959",
      "metadata": {
        "id": "9151f959"
      },
      "source": [
        "### 3.5 Concept - Using NN to recognize handwritten digits\n",
        "\n",
        "In the final part of this project, I will be building a neural network to classify images to their respective digits.  \n",
        "\n",
        "I built and train a model on the classic **MNIST Handwritten Digits** dataset. Each grayscale image is a $28 \\times 28$ matrix/tensor that looks like so:\n",
        "\n",
        "<img src=\"https://upload.wikimedia.org/wikipedia/commons/2/27/MnistExamples.png\" width=\"500\" />\n",
        "\n",
        "MNIST is a classification problem and the task is to take in an input image and classify them into one of ten buckets: the digits from $0$ to $9$. "
      ]
    },
    {
      "attachments": {},
      "cell_type": "markdown",
      "id": "eda667dc",
      "metadata": {
        "id": "eda667dc"
      },
      "source": [
        "### 3.5 Loading an external dataset\n",
        "\n",
        "The cell below imports the MNIST dataset, which is already pre-split into train and test sets.  \n",
        "\n",
        "The download takes approximately 63MB of space."
      ]
    },
    {
      "cell_type": "code",
      "execution_count": null,
      "id": "2ce62735",
      "metadata": {
        "id": "2ce62735"
      },
      "outputs": [],
      "source": [
        "# DO NOT REMOVE THIS CELL – THIS DOWNLOADS THE MNIST DATASET\n",
        "# RUN THIS CELL BEFORE YOU RUN THE REST OF THE CELLS BELOW\n",
        "from torchvision import datasets\n",
        "\n",
        "# This downloads the MNIST datasets ~63MB\n",
        "mnist_train = datasets.MNIST(\"./\", train=True, download=True)\n",
        "mnist_test  = datasets.MNIST(\"./\", train=False, download=True)\n",
        "\n",
        "x_train = mnist_train.data.reshape(-1, 784) / 255\n",
        "y_train = mnist_train.targets\n",
        "    \n",
        "x_test = mnist_test.data.reshape(-1, 784) / 255\n",
        "y_test = mnist_test.targets"
      ]
    },
    {
      "attachments": {},
      "cell_type": "markdown",
      "id": "e092f6c4",
      "metadata": {
        "id": "e092f6c4"
      },
      "source": [
        "### 3.6 Define the model architechure and implement the forward pass\n",
        "Creating a 3-layer network in the `__init__` method of the model `DigitNet`.  \n",
        "These layers are all `Linear` layers and should correspond to the following the architecture:\n",
        "\n",
        "<img src=\"imgs/img_linear_nn.png\" width=\"600\">\n",
        "\n",
        "In the data, a given image $x$ has been flattened from a 28x28 image to a 784-length array.\n",
        "\n",
        "After initializing the layers, we stitch them together in the `forward` method. The network should look like so:\n",
        "\n",
        "$$x \\rightarrow \\text{Linear(512)} \\rightarrow \\text{ReLU} \\rightarrow \\text{Linear(128)} \\rightarrow \\text{ReLU} \\rightarrow \\text{Linear(10)} \\rightarrow \\text{Softmax} \\rightarrow \\hat{y}$$\n",
        "\n",
        "**Softmax Layer**: The final softmax activation is commonly used for classification tasks, as it will normalizes the results into a vector of values that follows a probability distribution whose total sums up to 1. The output values are between the range [0,1] which is nice because we are able to avoid binary classification and accommodate as many classes or dimensions in our neural network model.\n",
        "\n",
        "*Note: When using `torch.softmax(...)` on the final layer, ensure we are applying it on the correct dimension (as we did in NumPy via the `axis` argument in popular methods)*"
      ]
    },
    {
      "cell_type": "code",
      "execution_count": null,
      "id": "596d04f8",
      "metadata": {
        "id": "596d04f8"
      },
      "outputs": [],
      "source": [
        "class DigitNet(nn.Module):\n",
        "    def __init__(self, input_dimensions, num_classes): # set the arguments you'd need\n",
        "        super().__init__()\n",
        "        \"\"\"\n",
        "        create the 3 layers (and a ReLU layer) using the torch.nn layers API\n",
        "        \"\"\"\n",
        "        self.l1 = nn.Linear(input_dimensions, 512)\n",
        "        self.l2 = nn.Linear(512, 128)\n",
        "        self.l3 = nn.Linear(128, num_classes)\n",
        "        self.ReLU = nn.ReLU()\n",
        "        self.Softmax = nn.Softmax(dim = 1)\n",
        "        \n",
        "    def forward(self, x):\n",
        "\n",
        "        x = self.l1(x)\n",
        "        x = self.ReLU(x) \n",
        "        x = self.l2(x) \n",
        "        x = self.ReLU(x)\n",
        "        x = self.l3(x)\n",
        "        x = self.Softmax(x)\n",
        "        \"\"\"\n",
        "        Performs the forward pass for the network.\n",
        "        \n",
        "        PARAMS:\n",
        "            x : the input tensor (batch size is the entire dataset)\n",
        "            \n",
        "        RETURNS\n",
        "            the output of the entire 3-layer model\n",
        "        \"\"\"\n",
        "        \n",
        "        \"\"\"\n",
        "        - pass the inputs through the sequence of layers\n",
        "        - run the final output through the Softmax function on the right dimension!\n",
        "        \"\"\"\n",
        "        return x\n",
        "        \n",
        "\n",
        "        \n",
        "        "
      ]
    },
    {
      "attachments": {},
      "cell_type": "markdown",
      "id": "d356b9ad",
      "metadata": {
        "id": "d356b9ad"
      },
      "source": [
        "### 3.7 Training Loop\n",
        "\n",
        "As demonstrated in Section 3.2, here weimplement the function `train_model` that performs the following for every epoch/iteration:\n",
        "\n",
        "1. set the optimizer's gradients to zero\n",
        "2. forward pass\n",
        "3. calculate the loss\n",
        "4. backpropagate using the loss\n",
        "5. take an optimzer step to update weights\n",
        "\n",
        "This time, we use the Adam optimiser to train the network.  \n",
        "Use Cross-Entropy Loss, since we are performing a classification.  \n",
        "Train for 20 epochs.  "
      ]
    },
    {
      "cell_type": "code",
      "execution_count": null,
      "id": "60ab3632",
      "metadata": {
        "colab": {
          "background_save": true,
          "base_uri": "https://localhost:8080/"
        },
        "id": "60ab3632",
        "outputId": "8f54b470-ce16-4adb-836b-0062586ec832"
      },
      "outputs": [
        {
          "name": "stdout",
          "output_type": "stream",
          "text": [
            "    0\t2.3022143840789795\n",
            "    1\t2.296050786972046\n",
            "    2\t2.288417339324951\n",
            "    3\t2.277859926223755\n",
            "    4\t2.263728380203247\n",
            "    5\t2.244835138320923\n",
            "    6\t2.2196919918060303\n",
            "    7\t2.187786817550659\n",
            "    8\t2.1506407260894775\n",
            "    9\t2.1095848083496094\n",
            "   10\t2.0652456283569336\n",
            "   11\t2.020503520965576\n",
            "   12\t1.9762670993804932\n",
            "   13\t1.9322797060012817\n",
            "   14\t1.8914086818695068\n",
            "   15\t1.8562973737716675\n",
            "   16\t1.8254300355911255\n",
            "   17\t1.7982449531555176\n",
            "   18\t1.7744667530059814\n",
            "   19\t1.753218650817871\n"
          ]
        }
      ],
      "source": [
        "def train_model(x_train, y_train, epochs=20):\n",
        "    \"\"\"\n",
        "    Trains the model for 20 epochs/iterations\n",
        "    \n",
        "    PARAMS:\n",
        "        x_train : a tensor of training features of shape (60000, 784)\n",
        "        y_train : a tensor of training labels of shape (60000, 1)\n",
        "        epochs  : number of epochs, default of 20\n",
        "        \n",
        "    RETURNS:\n",
        "        the final model \n",
        "    \"\"\"\n",
        "    model = DigitNet(784, 10)\n",
        "    optimiser = torch.optim.Adam(model.parameters(), lr = 1e-3) # use Adam\n",
        "    loss_fn = nn.CrossEntropyLoss()\n",
        "\n",
        "    for i in range(epochs):\n",
        "      optimiser.zero_grad()\n",
        "      # get predictions\n",
        "      y_pred = model(x_train)\n",
        "      # compute loss\n",
        "      loss = loss_fn(y_pred, y_train)\n",
        "      # backpropagate\n",
        "      loss.backward()\n",
        "      # update the model weights\n",
        "      optimiser.step()\n",
        "\n",
        "      print (f\"{i:5d}\", loss.item(), sep='\\t')\n",
        "\n",
        "    return model\n",
        "                \n",
        "digit_model = train_model(x_train, y_train)\n",
        "\n"
      ]
    },
    {
      "attachments": {},
      "cell_type": "markdown",
      "id": "01fdee35",
      "metadata": {
        "id": "01fdee35"
      },
      "source": [
        "### 3.8 Explore the model\n",
        "\n",
        "Now that we have trained the model, let us run some predictions on the model."
      ]
    },
    {
      "cell_type": "code",
      "execution_count": null,
      "id": "6f83aa93",
      "metadata": {
        "colab": {
          "base_uri": "https://localhost:8080/",
          "height": 284
        },
        "id": "6f83aa93",
        "outputId": "ce5b7fbc-6f86-4cd4-e3cf-392628a34113"
      },
      "outputs": [
        {
          "name": "stdout",
          "output_type": "stream",
          "text": [
            "true label: 7\n",
            "pred label: 7\n"
          ]
        },
        {
          "data": {
            "image/png": "[encoded data removed]",
            "text/plain": [
              "<Figure size 432x288 with 1 Axes>"
            ]
          },
          "metadata": {},
          "output_type": "display_data"
        }
      ],
      "source": [
        "idx = 0 # try on some index\n",
        "\n",
        "scores = digit_model(x_test[idx:idx+1])\n",
        "_, predictions = torch.max(scores, 1)\n",
        "print(\"true label:\", y_test[idx].item())\n",
        "print(\"pred label:\", predictions[0].item())\n",
        "\n",
        "plt.imshow(x_test[idx].numpy().reshape(28, 28), cmap='gray')\n",
        "plt.axis(\"off\")\n",
        "plt.show()"
      ]
    },
    {
      "cell_type": "markdown",
      "id": "fcc94586",
      "metadata": {
        "id": "fcc94586"
      },
      "source": [
        "### 3.9 Task 11 - Evaluate the model\n",
        "\n",
        "Now that we have trained the model, we should evaluate it using our test set.  \n",
        "We will be using the accuracy (whether or not the model predicted the correct label) to measure the model performance.  \n",
        "\n",
        "Since our model takes in a (n x 784) tensor and returns a (n x 10) tensor of probability scores for each of the 10 classes, we need to convert the probability scores into the actual predictions by taking the index of the maximum probability.  "
      ]
    },
    {
      "cell_type": "code",
      "execution_count": null,
      "id": "a5684246",
      "metadata": {
        "id": "a5684246"
      },
      "outputs": [],
      "source": [
        "def get_accuracy(scores, labels):\n",
        "    \"\"\"\n",
        "    helper function that returns accuracy of model\n",
        "    PARAMS:\n",
        "        scores : the raw softmax scores of the network\n",
        "        label : the ground truth labels\n",
        "        \n",
        "    RETURNS:\n",
        "        accuracy of the model. Return a number in range [0, 1].\n",
        "        0 means 0% accuracy while 1 means 100% accuracy\n",
        "    \"\"\"\n",
        "    \n",
        "    # get probability of max_score\n",
        "    score = torch.max(scores, 1)\n",
        "    compare = torch.eq(score[1], labels)\n",
        "\n",
        "    sum = 0\n",
        "    for elem in compare:\n",
        "      if elem == True:\n",
        "        sum += 1\n",
        "      \n",
        "    return sum / scores.shape[0]\n",
        "    \n",
        "\n",
        "scores = digit_model(x_test) # n x 10 tensor\n",
        "get_accuracy(scores, y_test)"
      ]
    },
    {
      "attachments": {},
      "cell_type": "markdown",
      "id": "9ce50c78",
      "metadata": {
        "id": "9ce50c78"
      },
      "source": [
        "### End of Project :)"
      ]
    }
  ],
  "metadata": {
    "colab": {
      "provenance": []
    },
    "kernelspec": {
      "display_name": "Python 3.10.5 64-bit",
      "language": "python",
      "name": "python3"
    },
    "language_info": {
      "codemirror_mode": {
        "name": "ipython",
        "version": 3
      },
      "file_extension": ".py",
      "mimetype": "text/x-python",
      "name": "python",
      "nbconvert_exporter": "python",
      "pygments_lexer": "ipython3",
      "version": "3.10.5"
    },
    "vscode": {
      "interpreter": {
        "hash": "aee8b7b246df8f9039afb4144a1f6fd8d2ca17a180786b69acc140d282b71a49"
      }
    }
  },
  "nbformat": 4,
  "nbformat_minor": 5
}
